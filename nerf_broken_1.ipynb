{
 "cells": [
  {
   "cell_type": "code",
   "execution_count": 785,
   "metadata": {},
   "outputs": [],
   "source": [
    "import numpy as np\n",
    "import torch\n",
    "import matplotlib.pyplot as plt\n",
    "from typing import Callable, Type\n"
   ]
  },
  {
   "cell_type": "code",
   "execution_count": 786,
   "metadata": {},
   "outputs": [
    {
     "data": {
      "text/plain": [
       "device(type='cuda', index=0)"
      ]
     },
     "execution_count": 786,
     "metadata": {},
     "output_type": "execute_result"
    }
   ],
   "source": [
    "torch.set_default_device('cuda' if torch.cuda.is_available() else 'cpu')\n",
    "torch.get_default_device()"
   ]
  },
  {
   "cell_type": "code",
   "execution_count": 787,
   "metadata": {},
   "outputs": [
    {
     "data": {
      "text/plain": [
       "KeysView(NpzFile './data/nerf-data/tiny_nerf_data.npz' with keys: images, poses, focal)"
      ]
     },
     "execution_count": 787,
     "metadata": {},
     "output_type": "execute_result"
    }
   ],
   "source": [
    "nerf_data = np.load(\"./data/nerf-data/tiny_nerf_data.npz\")\n",
    "nerf_data.keys()"
   ]
  },
  {
   "cell_type": "code",
   "execution_count": 788,
   "metadata": {},
   "outputs": [],
   "source": [
    "input_images = torch.from_numpy(nerf_data[\"images\"]).to(device=torch.get_default_device())\n",
    "\"\"\"Training images\"\"\"\n",
    "input_poses = torch.from_numpy(nerf_data[\"poses\"]).to(device=torch.get_default_device())\n",
    "\"\"\"Camera-to-world transformation matrices\"\"\"\n",
    "focal_length = torch.from_numpy(nerf_data[\"focal\"]).to(device=torch.get_default_device())\n",
    "\"\"\"Distance from camera to image plane\"\"\"\n",
    "\n",
    "image_res = input_images.shape[1:-1]\n",
    "\n",
    "clip_near = 0.1\n",
    "clip_far = 5.0"
   ]
  },
  {
   "cell_type": "code",
   "execution_count": 789,
   "metadata": {},
   "outputs": [
    {
     "data": {
      "image/png": "[encoded data removed]",
      "text/plain": [
       "<Figure size 640x480 with 1 Axes>"
      ]
     },
     "metadata": {},
     "output_type": "display_data"
    },
    {
     "data": {
      "text/plain": [
       "\"Pose : tensor([[ 0.2079,  0.1652, -0.9641, -3.8864],\\n        [-0.9781,  0.0351, -0.2049, -0.8261],\\n        [ 0.0000,  0.9856,  0.1689,  0.6810],\\n        [ 0.0000,  0.0000,  0.0000,  1.0000]], device='cuda:0')\""
      ]
     },
     "execution_count": 789,
     "metadata": {},
     "output_type": "execute_result"
    }
   ],
   "source": [
    "sample_image_idx = input_images.shape[0] // 2\n",
    "test_image, test_pose = input_images[sample_image_idx], input_poses[sample_image_idx]\n",
    "\n",
    "plt.imshow(test_image.cpu().numpy())\n",
    "plt.show()\n",
    "f\"Pose : {test_pose}\""
   ]
  },
  {
   "cell_type": "markdown",
   "metadata": {},
   "source": [
    "\\begin{align}\n",
    "\\gamma(x,y) =&[\\sin(\\pi x), \\cos(\\pi x),\\sin(\\pi y), \\cos(\\pi y), \\\\\n",
    "&\\sin(2 \\pi x), \\cos(2 \\pi x),\\sin(2 \\pi y), \\cos(2 \\pi y), \\\\\n",
    "&\\ldots\\\\\n",
    "&\\sin(2^{L-1}\\pi x), \\cos(2^{L-1}\\pi x),\\sin(2^{L-1}\\pi y), \\cos(2^{L-1}\\pi y)] \\in \\mathbb{R}^{4*L}\n",
    "\\end{align}"
   ]
  },
  {
   "cell_type": "code",
   "execution_count": 790,
   "metadata": {},
   "outputs": [
    {
     "data": {
      "text/plain": [
       "tensor([ 1.0000e+00, -4.3711e-08,  1.0000e+00, -4.3711e-08, -8.7423e-08,\n",
       "        -1.0000e+00, -8.7423e-08, -1.0000e+00,  1.7485e-07,  1.0000e+00,\n",
       "         1.7485e-07,  1.0000e+00,  3.4969e-07,  1.0000e+00,  3.4969e-07,\n",
       "         1.0000e+00,  6.9938e-07,  1.0000e+00,  6.9938e-07,  1.0000e+00,\n",
       "         1.3988e-06,  1.0000e+00,  1.3988e-06,  1.0000e+00], device='cuda:0')"
      ]
     },
     "execution_count": 790,
     "metadata": {},
     "output_type": "execute_result"
    }
   ],
   "source": [
    "def positional_encoding(v : torch.Tensor, l : int = 6):\n",
    "    # TESTED : OK\n",
    "    # TODO : This is not ideal, ideally we implement this https://bmild.github.io/fourfeat/ \n",
    "    \"\"\"\n",
    "    Apply positional encoding (Gamma) to the input tensor\n",
    "    Source : https://bmild.github.io/fourfeat/\n",
    "\n",
    "    l - Low l over-smooths, high l over-fits\n",
    "    \"\"\"\n",
    "    n = v.size\n",
    "    \n",
    "    powers = 2 ** torch.arange(l)  # Shape: (l,)\n",
    "    \n",
    "    # Calculate sin and cos components\n",
    "    sin_values = torch.sin(torch.outer(powers, v) * torch.pi)  # Shape: (l, n)\n",
    "    cos_values = torch.cos(torch.outer(powers, v) * torch.pi)  # Shape: (l, n)\n",
    "    \n",
    "    # Stack sin and cos values along the last axis and reshape\n",
    "    result = torch.stack((sin_values,  cos_values), axis=-1).reshape(-1)\n",
    "\n",
    "    return result\n",
    "\n",
    "v = torch.tensor([0.5, 0.5])\n",
    "positional_encoding(v)"
   ]
  },
  {
   "cell_type": "code",
   "execution_count": 791,
   "metadata": {},
   "outputs": [],
   "source": [
    "def train(\n",
    "        model_type : type[torch.nn.Module], \n",
    "        images : torch.Tensor,\n",
    "        poses : torch.Tensor,\n",
    "        focal_length : torch.Tensor,\n",
    "        image_fn : Callable, \n",
    "        learning_rate : float = 1e-4,\n",
    "    ):\n",
    "\n",
    "    model = model_type()\n",
    "    optimizer = torch.optim.Adam(f.parameters(), lr=learning_rate)\n",
    "    loss_fn = torch.nn.functional.mse_loss\n",
    "\n",
    "    iterations = 1000\n",
    "    loss = np.zeros(iterations)\n",
    "\n",
    "    # Iterate over the number of iterations in random order\n",
    "    for idx in np.random.permutation(iterations):\n",
    "        target_image = images[idx]\n",
    "        target_pose = poses[idx]\n",
    "\n",
    "        ## I am stuck here chatgpt "
   ]
  },
  {
   "cell_type": "code",
   "execution_count": 792,
   "metadata": {},
   "outputs": [],
   "source": [
    "class NerfModel(torch.nn.Module):\n",
    "  def __init__(self, filter_size=128, l=6):\n",
    "    super(NerfModel, self).__init__()\n",
    "    input_size = l * 2 * 3\n",
    "    self.layer1 = torch.nn.Linear(input_size, filter_size)\n",
    "    self.layer2 = torch.nn.Linear(filter_size, filter_size)\n",
    "    self.layer3 = torch.nn.Linear(filter_size, 4)\n",
    "    self.relu = torch.nn.functional.relu\n",
    "  \n",
    "  def forward(self, x):\n",
    "    x = self.relu(self.layer1(x))\n",
    "    x = self.relu(self.layer2(x))\n",
    "    x = self.layer3(x)\n",
    "    return x"
   ]
  },
  {
   "cell_type": "code",
   "execution_count": 793,
   "metadata": {},
   "outputs": [],
   "source": [
    "import torch\n",
    "import torch.nn.functional as F\n",
    "\n",
    "def get_rays(image_res : np.ndarray, focal_length: float, mat_cam_to_world: torch.Tensor):\n",
    "    \"\"\"Generate rays for each pixel in the image.\"\"\"\n",
    "    height, width = image_res\n",
    "\n",
    "    ii, jj = torch.meshgrid(\n",
    "        torch.linspace(0, width-1, width),\n",
    "        torch.linspace(0, height-1, height),\n",
    "        indexing='xy'\n",
    "    )\n",
    "    \n",
    "    # From pixel coordinates to normalized camera coordinates\n",
    "    #   directions \\in R^{H x W x 3}\n",
    "    directions = torch.stack([\n",
    "        (ii - width * 0.5) / focal_length,\n",
    "        -(jj - height * 0.5) / focal_length,\n",
    "        -torch.ones_like(ii)\n",
    "    ], dim=-1)\n",
    "    \n",
    "    # Rotate ray directions from camera frame to world frame\n",
    "    directions = torch.sum(directions[..., None, :] * mat_cam_to_world[:3, :3],dim=-1)\n",
    "    \n",
    "    # Get ray origin (camera position)\n",
    "    origins = mat_cam_to_world[:3, :-1].expand(directions.shape)\n",
    "    \n",
    "    return origins, directions\n",
    "\n",
    "def sample_along_rays(\n",
    "    ray_origins: torch.Tensor,\n",
    "    ray_directions: torch.Tensor,\n",
    "    n_samples: int = 64,\n",
    "    randomized: bool = True,\n",
    "    clip_interval = None,\n",
    "):\n",
    "    if clip_interval is None:\n",
    "        clip_interval = np.array([0.1, 5.0])\n",
    "\n",
    "    \"\"\"Sample points along each ray.\"\"\"\n",
    "    # Generate depth values\n",
    "    t_vals = torch.linspace(clip_interval[0], clip_interval[1], n_samples)\n",
    "    \n",
    "    if randomized:\n",
    "        # Add noise to samples\n",
    "        mids = 0.5 * (t_vals[..., 1:] + t_vals[..., :-1])\n",
    "        upper = torch.cat([mids, t_vals[..., -1:]], dim=-1)\n",
    "        lower = torch.cat([t_vals[..., :1], mids], dim=-1)\n",
    "        t_rand = torch.rand(t_vals.shape)\n",
    "        t_vals = lower + (upper - lower) * t_rand\n",
    "    \n",
    "    # Expand t_vals to match ray origins shape\n",
    "    t_vals = t_vals.expand(ray_origins.shape[:-1] + (n_samples,))\n",
    "    \n",
    "    # Calculate sample positions\n",
    "    points = ray_origins[..., None, :] + ray_directions[..., None, :] * t_vals[..., :, None]\n",
    "    \n",
    "    return points, t_vals\n",
    "\n",
    "def volume_render(rgb: torch.Tensor, sigma: torch.Tensor, t_vals: torch.Tensor):\n",
    "    \"\"\"Perform volume rendering.\"\"\"\n",
    "    delta = t_vals[..., 1:] - t_vals[..., :-1]\n",
    "    delta = torch.cat([delta, torch.ones_like(delta[..., :1]) * 1e-3], dim=-1)\n",
    "    \n",
    "    # Calculate alpha values\n",
    "    alpha = 1 - torch.exp(-sigma * delta)\n",
    "    \n",
    "    # Calculate weights\n",
    "    weights = alpha * torch.cumprod(\n",
    "        torch.cat([torch.ones_like(alpha[..., :1]), 1 - alpha + 1e-10], dim=-1),\n",
    "        dim=-1\n",
    "    )[..., :-1]\n",
    "    \n",
    "    # Compute final RGB and depth\n",
    "    rgb_final = torch.sum(weights[..., None] * rgb, dim=-2)\n",
    "    depth = torch.sum(weights * t_vals, dim=-1)\n",
    "    \n",
    "    return rgb_final, depth, weights\n",
    "\n",
    "def render_rays(model: torch.nn.Module, rays_o: torch.Tensor, rays_d: torch.Tensor, n_samples: int):\n",
    "    \"\"\"Render rays using the NeRF model.\"\"\"\n",
    "    # Sample points along rays\n",
    "    points, t_vals = sample_along_rays(rays_o, rays_d, n_samples)\n",
    "    \n",
    "    # Flatten points for batch processing\n",
    "    flat_points = points.reshape(-1, 3)\n",
    "    \n",
    "    # Run model inference (assuming model returns RGB + density)\n",
    "    model_output = model(flat_points)\n",
    "    \n",
    "    # Reshape output\n",
    "    output_shape = points.shape[:-1] + (4,)\n",
    "    outputs = model_output.reshape(output_shape)\n",
    "    \n",
    "    # Split into RGB and density\n",
    "    rgb = torch.sigmoid(outputs[..., :3])\n",
    "    sigma = F.relu(outputs[..., 3])\n",
    "    \n",
    "    # Volume rendering\n",
    "    rgb_final, depth, weights = volume_render(rgb, sigma, t_vals)\n",
    "    \n",
    "    return rgb_final, depth\n",
    "\n",
    "def train_step(\n",
    "    model: torch.nn.Module,\n",
    "    optimizer: torch.optim.Optimizer,\n",
    "    target_image : torch.Tensor,\n",
    "    target_pose : torch.Tensor,\n",
    "    focal_length: float,\n",
    "    loss_fn : Callable = F.mse_loss,\n",
    "    n_samples: int = 64\n",
    "):\n",
    "    \"\"\"Perform one training step.\"\"\"\n",
    "    image_res = target_image.shape[:-1]\n",
    "    rays_o, rays_d = get_rays(image_res, focal_length, target_pose)\n",
    "    y_hat_rgb, depth = render_rays(model, rays_o, rays_d, n_samples)\n",
    "\n",
    "    loss = loss_fn(y_hat_rgb, target_image)\n",
    "    \n",
    "    # Optimize\n",
    "    optimizer.zero_grad()\n",
    "    loss.backward()\n",
    "    optimizer.step()\n",
    "    \n",
    "    return loss.item(), y_hat_rgb\n",
    "\n",
    "# Update your training loop\n",
    "def train(\n",
    "    model_type: type[torch.nn.Module],\n",
    "    images: torch.Tensor,\n",
    "    poses: torch.Tensor,\n",
    "    focal_length: float,\n",
    "    learning_rate: float = 1e-4,\n",
    "    n_iterations: int = 1000,\n",
    "    optimizer_type: Type[torch.optim.Optimizer] = torch.optim.Adam\n",
    "):\n",
    "    model = model_type()\n",
    "    model = model.to(device=torch.get_default_device())\n",
    "    optimizer = optimizer_type(model.parameters(), lr=learning_rate)\n",
    "\n",
    "    losses = []\n",
    "    snapshot_interval = n_iterations // 10\n",
    "    \n",
    "    for i in range(n_iterations):\n",
    "        idx = np.random.randint(images.shape[0])\n",
    "\n",
    "        loss, rendered_image = train_step(\n",
    "            model=model,\n",
    "            optimizer=optimizer,\n",
    "            target_image=images[idx],\n",
    "            target_pose=poses[idx],\n",
    "            focal_length=focal_length,\n",
    "        )\n",
    "        \n",
    "        losses.append(loss)\n",
    "        \n",
    "        if i % snapshot_interval == 0:\n",
    "            print(f\"Iteration {i}: Loss = {loss:.6f}\")\n",
    "            plt.imshow(rendered_image.cpu().detach().numpy())\n",
    "            plt.show()\n",
    "    \n",
    "    return model, losses"
   ]
  },
  {
   "cell_type": "code",
   "execution_count": 795,
   "metadata": {},
   "outputs": [
    {
     "ename": "RuntimeError",
     "evalue": "The expanded size of the tensor (100) must match the existing size (3) at non-singleton dimension 1.  Target sizes: [100, 100, 3].  Tensor sizes: [3, 3]",
     "output_type": "error",
     "traceback": [
      "\u001b[1;31m---------------------------------------------------------------------------\u001b[0m",
      "\u001b[1;31mRuntimeError\u001b[0m                              Traceback (most recent call last)",
      "Cell \u001b[1;32mIn[795], line 1\u001b[0m\n\u001b[1;32m----> 1\u001b[0m model, losses \u001b[38;5;241m=\u001b[39m \u001b[43mtrain\u001b[49m\u001b[43m(\u001b[49m\n\u001b[0;32m      2\u001b[0m \u001b[43m    \u001b[49m\u001b[43mmodel_type\u001b[49m\u001b[38;5;241;43m=\u001b[39;49m\u001b[43mNerfModel\u001b[49m\u001b[43m,\u001b[49m\n\u001b[0;32m      3\u001b[0m \u001b[43m    \u001b[49m\u001b[43mimages\u001b[49m\u001b[38;5;241;43m=\u001b[39;49m\u001b[43minput_images\u001b[49m\u001b[43m,\u001b[49m\u001b[43m  \u001b[49m\u001b[38;5;66;43;03m# Shape: [N, H, W, 3]\u001b[39;49;00m\n\u001b[0;32m      4\u001b[0m \u001b[43m    \u001b[49m\u001b[43mposes\u001b[49m\u001b[38;5;241;43m=\u001b[39;49m\u001b[43minput_poses\u001b[49m\u001b[43m,\u001b[49m\u001b[43m    \u001b[49m\u001b[38;5;66;43;03m# Shape: [N, 4, 4]\u001b[39;49;00m\n\u001b[0;32m      5\u001b[0m \u001b[43m    \u001b[49m\u001b[43mfocal_length\u001b[49m\u001b[38;5;241;43m=\u001b[39;49m\u001b[43mfocal_length\u001b[49m\u001b[43m,\u001b[49m\n\u001b[0;32m      6\u001b[0m \u001b[43m)\u001b[49m\n",
      "Cell \u001b[1;32mIn[793], line 147\u001b[0m, in \u001b[0;36mtrain\u001b[1;34m(model_type, images, poses, focal_length, learning_rate, n_iterations, optimizer_type)\u001b[0m\n\u001b[0;32m    144\u001b[0m \u001b[38;5;28;01mfor\u001b[39;00m i \u001b[38;5;129;01min\u001b[39;00m \u001b[38;5;28mrange\u001b[39m(n_iterations):\n\u001b[0;32m    145\u001b[0m     idx \u001b[38;5;241m=\u001b[39m np\u001b[38;5;241m.\u001b[39mrandom\u001b[38;5;241m.\u001b[39mrandint(images\u001b[38;5;241m.\u001b[39mshape[\u001b[38;5;241m0\u001b[39m])\n\u001b[1;32m--> 147\u001b[0m     loss, rendered_image \u001b[38;5;241m=\u001b[39m \u001b[43mtrain_step\u001b[49m\u001b[43m(\u001b[49m\n\u001b[0;32m    148\u001b[0m \u001b[43m        \u001b[49m\u001b[43mmodel\u001b[49m\u001b[38;5;241;43m=\u001b[39;49m\u001b[43mmodel\u001b[49m\u001b[43m,\u001b[49m\n\u001b[0;32m    149\u001b[0m \u001b[43m        \u001b[49m\u001b[43moptimizer\u001b[49m\u001b[38;5;241;43m=\u001b[39;49m\u001b[43moptimizer\u001b[49m\u001b[43m,\u001b[49m\n\u001b[0;32m    150\u001b[0m \u001b[43m        \u001b[49m\u001b[43mtarget_image\u001b[49m\u001b[38;5;241;43m=\u001b[39;49m\u001b[43mimages\u001b[49m\u001b[43m[\u001b[49m\u001b[43midx\u001b[49m\u001b[43m]\u001b[49m\u001b[43m,\u001b[49m\n\u001b[0;32m    151\u001b[0m \u001b[43m        \u001b[49m\u001b[43mtarget_pose\u001b[49m\u001b[38;5;241;43m=\u001b[39;49m\u001b[43mposes\u001b[49m\u001b[43m[\u001b[49m\u001b[43midx\u001b[49m\u001b[43m]\u001b[49m\u001b[43m,\u001b[49m\n\u001b[0;32m    152\u001b[0m \u001b[43m        \u001b[49m\u001b[43mfocal_length\u001b[49m\u001b[38;5;241;43m=\u001b[39;49m\u001b[43mfocal_length\u001b[49m\u001b[43m,\u001b[49m\n\u001b[0;32m    153\u001b[0m \u001b[43m    \u001b[49m\u001b[43m)\u001b[49m\n\u001b[0;32m    155\u001b[0m     losses\u001b[38;5;241m.\u001b[39mappend(loss)\n\u001b[0;32m    157\u001b[0m     \u001b[38;5;28;01mif\u001b[39;00m i \u001b[38;5;241m%\u001b[39m snapshot_interval \u001b[38;5;241m==\u001b[39m \u001b[38;5;241m0\u001b[39m:\n",
      "Cell \u001b[1;32mIn[793], line 115\u001b[0m, in \u001b[0;36mtrain_step\u001b[1;34m(model, optimizer, target_image, target_pose, focal_length, loss_fn, n_samples)\u001b[0m\n\u001b[0;32m    113\u001b[0m \u001b[38;5;250m\u001b[39m\u001b[38;5;124;03m\"\"\"Perform one training step.\"\"\"\u001b[39;00m\n\u001b[0;32m    114\u001b[0m image_res \u001b[38;5;241m=\u001b[39m target_image\u001b[38;5;241m.\u001b[39mshape[:\u001b[38;5;241m-\u001b[39m\u001b[38;5;241m1\u001b[39m]\n\u001b[1;32m--> 115\u001b[0m rays_o, rays_d \u001b[38;5;241m=\u001b[39m \u001b[43mget_rays\u001b[49m\u001b[43m(\u001b[49m\u001b[43mimage_res\u001b[49m\u001b[43m,\u001b[49m\u001b[43m \u001b[49m\u001b[43mfocal_length\u001b[49m\u001b[43m,\u001b[49m\u001b[43m \u001b[49m\u001b[43mtarget_pose\u001b[49m\u001b[43m)\u001b[49m\n\u001b[0;32m    116\u001b[0m y_hat_rgb, depth \u001b[38;5;241m=\u001b[39m render_rays(model, rays_o, rays_d, n_samples)\n\u001b[0;32m    118\u001b[0m loss \u001b[38;5;241m=\u001b[39m loss_fn(y_hat_rgb, target_image)\n",
      "Cell \u001b[1;32mIn[793], line 26\u001b[0m, in \u001b[0;36mget_rays\u001b[1;34m(image_res, focal_length, mat_cam_to_world)\u001b[0m\n\u001b[0;32m     23\u001b[0m directions \u001b[38;5;241m=\u001b[39m torch\u001b[38;5;241m.\u001b[39msum(directions[\u001b[38;5;241m.\u001b[39m\u001b[38;5;241m.\u001b[39m\u001b[38;5;241m.\u001b[39m, \u001b[38;5;28;01mNone\u001b[39;00m, :] \u001b[38;5;241m*\u001b[39m mat_cam_to_world[:\u001b[38;5;241m3\u001b[39m, :\u001b[38;5;241m3\u001b[39m],dim\u001b[38;5;241m=\u001b[39m\u001b[38;5;241m-\u001b[39m\u001b[38;5;241m1\u001b[39m)\n\u001b[0;32m     25\u001b[0m \u001b[38;5;66;03m# Get ray origin (camera position)\u001b[39;00m\n\u001b[1;32m---> 26\u001b[0m origins \u001b[38;5;241m=\u001b[39m \u001b[43mmat_cam_to_world\u001b[49m\u001b[43m[\u001b[49m\u001b[43m:\u001b[49m\u001b[38;5;241;43m3\u001b[39;49m\u001b[43m,\u001b[49m\u001b[43m \u001b[49m\u001b[43m:\u001b[49m\u001b[38;5;241;43m3\u001b[39;49m\u001b[43m]\u001b[49m\u001b[38;5;241;43m.\u001b[39;49m\u001b[43mexpand\u001b[49m\u001b[43m(\u001b[49m\u001b[43mdirections\u001b[49m\u001b[38;5;241;43m.\u001b[39;49m\u001b[43mshape\u001b[49m\u001b[43m)\u001b[49m\n\u001b[0;32m     28\u001b[0m \u001b[38;5;28;01mreturn\u001b[39;00m origins, directions\n",
      "File \u001b[1;32mc:\\Users\\tim-s\\.conda\\envs\\fyp\\Lib\\site-packages\\torch\\utils\\_device.py:79\u001b[0m, in \u001b[0;36mDeviceContext.__torch_function__\u001b[1;34m(self, func, types, args, kwargs)\u001b[0m\n\u001b[0;32m     77\u001b[0m \u001b[38;5;28;01mif\u001b[39;00m func \u001b[38;5;129;01min\u001b[39;00m _device_constructors() \u001b[38;5;129;01mand\u001b[39;00m kwargs\u001b[38;5;241m.\u001b[39mget(\u001b[38;5;124m'\u001b[39m\u001b[38;5;124mdevice\u001b[39m\u001b[38;5;124m'\u001b[39m) \u001b[38;5;129;01mis\u001b[39;00m \u001b[38;5;28;01mNone\u001b[39;00m:\n\u001b[0;32m     78\u001b[0m     kwargs[\u001b[38;5;124m'\u001b[39m\u001b[38;5;124mdevice\u001b[39m\u001b[38;5;124m'\u001b[39m] \u001b[38;5;241m=\u001b[39m \u001b[38;5;28mself\u001b[39m\u001b[38;5;241m.\u001b[39mdevice\n\u001b[1;32m---> 79\u001b[0m \u001b[38;5;28;01mreturn\u001b[39;00m \u001b[43mfunc\u001b[49m\u001b[43m(\u001b[49m\u001b[38;5;241;43m*\u001b[39;49m\u001b[43margs\u001b[49m\u001b[43m,\u001b[49m\u001b[43m \u001b[49m\u001b[38;5;241;43m*\u001b[39;49m\u001b[38;5;241;43m*\u001b[39;49m\u001b[43mkwargs\u001b[49m\u001b[43m)\u001b[49m\n",
      "\u001b[1;31mRuntimeError\u001b[0m: The expanded size of the tensor (100) must match the existing size (3) at non-singleton dimension 1.  Target sizes: [100, 100, 3].  Tensor sizes: [3, 3]"
     ]
    }
   ],
   "source": [
    "model, losses = train(\n",
    "    model_type=NerfModel,\n",
    "    images=input_images,  # Shape: [N, H, W, 3]\n",
    "    poses=input_poses,    # Shape: [N, 4, 4]\n",
    "    focal_length=focal_length,\n",
    ")"
   ]
  }
 ],
 "metadata": {
  "kernelspec": {
   "display_name": "fyp",
   "language": "python",
   "name": "python3"
  },
  "language_info": {
   "codemirror_mode": {
    "name": "ipython",
    "version": 3
   },
   "file_extension": ".py",
   "mimetype": "text/x-python",
   "name": "python",
   "nbconvert_exporter": "python",
   "pygments_lexer": "ipython3",
   "version": "3.11.9"
  }
 },
 "nbformat": 4,
 "nbformat_minor": 2
}
